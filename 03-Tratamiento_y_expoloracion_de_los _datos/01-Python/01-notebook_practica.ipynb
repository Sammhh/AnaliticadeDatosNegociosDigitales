{
 "cells": [
  {
   "cell_type": "code",
   "execution_count": null,
   "id": "37068275",
   "metadata": {},
   "outputs": [],
   "source": [
    "#mi primer python\n",
    "print('hola mundo')"
   ]
  },
  {
   "cell_type": "markdown",
   "id": "508a5ad9",
   "metadata": {},
   "source": [
    "#Esto es un notebook de practica\n",
    "\n",
    "---\n",
    "\n",
    "### 1.OBJETIVOS\n",
    "    -Repasar como funciona un jupyter notebook\n",
    "\n",
    "### 2.REQUISITOS\n",
    "    -Jupiter Notebook instalado\n",
    "\n",
    "---\n",
    "\n"
   ]
  },
  {
   "cell_type": "markdown",
   "id": "4dcd6ff4",
   "metadata": {},
   "source": [
    "En JN tenemos `modo comando` y `modo edicion`\n",
    "\n",
    "El `modo edicion` sirve para editar celdas\n",
    "El `modo comando` sirve para usar comandos en el JN"
   ]
  }
 ],
 "metadata": {
  "kernelspec": {
   "display_name": "base",
   "language": "python",
   "name": "python3"
  },
  "language_info": {
   "name": "python",
   "version": "3.12.8"
  }
 },
 "nbformat": 4,
 "nbformat_minor": 5
}
