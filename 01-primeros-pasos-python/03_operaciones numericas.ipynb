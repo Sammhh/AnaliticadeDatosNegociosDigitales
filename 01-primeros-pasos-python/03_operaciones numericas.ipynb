{
 "cells": [
  {
   "cell_type": "markdown",
   "id": "2598bd1c",
   "metadata": {},
   "source": [
    "# Operaciones numericas\n",
    "\n",
    "- Objetivos de Desarrollo\n"
   ]
  },
  {
   "cell_type": "code",
   "execution_count": null,
   "id": "7e58f361",
   "metadata": {},
   "outputs": [],
   "source": [
    "var_1 = 4\n",
    "var_2 = 54\n",
    "var_3 = 23\n",
    "var_4 = 89"
   ]
  },
  {
   "cell_type": "code",
   "execution_count": null,
   "id": "c8f315f7",
   "metadata": {},
   "outputs": [
    {
     "ename": "SyntaxError",
     "evalue": "invalid syntax. Perhaps you forgot a comma? (3268192885.py, line 1)",
     "output_type": "error",
     "traceback": [
      "\u001b[1;36m  Cell \u001b[1;32mIn[2], line 1\u001b[1;36m\u001b[0m\n\u001b[1;33m    print (var_1, var_2, var_3, var_4 sep='-')\u001b[0m\n\u001b[1;37m                                ^\u001b[0m\n\u001b[1;31mSyntaxError\u001b[0m\u001b[1;31m:\u001b[0m invalid syntax. Perhaps you forgot a comma?\n"
     ]
    }
   ],
   "source": [
    "print (var_1, var_2, var_3, var_4 sep='-'),\n",
    "print (var_1, var_2, var_3, var_4 sep='-')\n",
    "\n",
    "print('El valor de la variabke var_1': ,var_1 'El valor de la variable var_1:' , var_2)"
   ]
  },
  {
   "cell_type": "markdown",
   "id": "7440bade",
   "metadata": {},
   "source": [
    "- Operaciones Numericas"
   ]
  }
 ],
 "metadata": {
  "kernelspec": {
   "display_name": "base",
   "language": "python",
   "name": "python3"
  },
  "language_info": {
   "codemirror_mode": {
    "name": "ipython",
    "version": 3
   },
   "file_extension": ".py",
   "mimetype": "text/x-python",
   "name": "python",
   "nbconvert_exporter": "python",
   "pygments_lexer": "ipython3",
   "version": "3.12.8"
  }
 },
 "nbformat": 4,
 "nbformat_minor": 5
}
